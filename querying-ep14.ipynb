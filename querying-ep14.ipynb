{
 "metadata": {
  "name": "",
  "signature": "sha256:4b67be7130d718051bd8f1ee9e1cf05ee8cbcd6baadba8e754d5cec570af74b8"
 },
 "nbformat": 3,
 "nbformat_minor": 0,
 "worksheets": [
  {
   "cells": [
    {
     "cell_type": "code",
     "collapsed": false,
     "input": [
      "# Benchmark for querying the MovieLens dataset using pandas and bcolz\n",
      "import os.path\n",
      "import numpy as np\n",
      "import pandas as pd\n",
      "import bcolz\n",
      "from time import time"
     ],
     "language": "python",
     "metadata": {},
     "outputs": [],
     "prompt_number": 1
    },
    {
     "cell_type": "code",
     "collapsed": false,
     "input": [
      "# Files where the data is (using the 10M dataset here)\n",
      "dset = 'ml-10m'\n",
      "ftags = os.path.join(dset, 'tags.dat')\n",
      "fdata = os.path.join(dset, 'ratings.dat.gz')\n",
      "fitem = os.path.join(dset, 'movies.dat')\n",
      "\n",
      "zdset = 'ml-10m.blz'\n",
      "pdset = 'ml-10m.h5'"
     ],
     "language": "python",
     "metadata": {},
     "outputs": [],
     "prompt_number": 2
    },
    {
     "cell_type": "code",
     "collapsed": false,
     "input": [
      "# Global settings for bcolz and pandas (for experimenting, modify some of the lines below)\n",
      "#bcolz.defaults.cparams['cname'] = 'blosclz'\n",
      "bcolz.defaults.cparams['clevel'] = 1\n",
      "#bcolz.defaults.eval_vm = \"numexpr\"\n",
      "#bcolz.blosc_set_nthreads(1)\n",
      "#bcolz.numexpr.set_num_threads(1)\n",
      "# from pandas.computation import expressions as expr\n",
      "# expr.set_use_numexpr(True)\n",
      "# expr.set_numexpr_threads(1)"
     ],
     "language": "python",
     "metadata": {},
     "outputs": [],
     "prompt_number": 3
    },
    {
     "cell_type": "code",
     "collapsed": false,
     "input": [
      "# Load the ratings in a pandas dataframe\n",
      "t0 = time()\n",
      "# pass in column names for each CSV\n",
      "t_cols = ['user_id', 'movie_id', 'tag', 'unix_timestamp']\n",
      "tags = pd.read_csv(ftags, sep=';', names=t_cols)\n",
      "#print(\"Info for tags:\", tags.info())\n",
      "\n",
      "r_cols = ['user_id', 'movie_id', 'rating', 'unix_timestamp']\n",
      "ratings = pd.read_csv(fdata, sep=';', names=r_cols, compression='gzip')\n",
      "\n",
      "m_cols = ['movie_id', 'title', 'genres']\n",
      "movies = pd.read_csv(fitem, sep=';', names=m_cols,\n",
      "                     dtype={'title': \"S100\", 'genres': \"S100\"})\n",
      "print(\"Time for parsing the data: %.2f\" % (time()-t0,)) \n",
      "\n",
      "t0 = time()\n",
      "# create one merged DataFrame\n",
      "movie_ratings = pd.merge(movies, ratings)\n",
      "# You probably need more than 8 GB in RAM for the next merge\n",
      "#lens = pd.merge(movie_ratings, tags, on='user_id')\n",
      "lens = movie_ratings\n",
      "print(\"Time for dataframe merges: %.2f\" % (time()-t0,)) \n",
      "print(\"Info for movie_ratings:\", movie_ratings.info())\n",
      "print(\"Info for lens:\", lens.info())"
     ],
     "language": "python",
     "metadata": {},
     "outputs": [
      {
       "output_type": "stream",
       "stream": "stdout",
       "text": [
        "Time for parsing the data: 5.31\n",
        "Time for dataframe merges: 1.34"
       ]
      },
      {
       "output_type": "stream",
       "stream": "stdout",
       "text": [
        "\n",
        "<class 'pandas.core.frame.DataFrame'>\n",
        "Int64Index: 10000054 entries, 0 to 10000053\n",
        "Data columns (total 6 columns):\n",
        "movie_id          int64\n",
        "title             object\n",
        "genres            object\n",
        "user_id           int64\n",
        "rating            float64\n",
        "unix_timestamp    int64\n",
        "dtypes: float64(1), int64(3), object(2)"
       ]
      },
      {
       "output_type": "stream",
       "stream": "stdout",
       "text": [
        "('Info for movie_ratings:', None)\n",
        "<class 'pandas.core.frame.DataFrame'>\n",
        "Int64Index: 10000054 entries, 0 to 10000053\n",
        "Data columns (total 6 columns):\n",
        "movie_id          int64\n",
        "title             object\n",
        "genres            object\n",
        "user_id           int64\n",
        "rating            float64\n",
        "unix_timestamp    int64\n",
        "dtypes: float64(1), int64(3), object(2)('Info for lens:', None)\n"
       ]
      }
     ],
     "prompt_number": 4
    },
    {
     "cell_type": "code",
     "collapsed": false,
     "input": [
      "# Size of the dataframe in-memory\n",
      "rsize = lens.values.nbytes / 2**20.\n",
      "print(\"Size for regular values in lens dataframe: %.1f MB\" % (rsize,))"
     ],
     "language": "python",
     "metadata": {},
     "outputs": [
      {
       "output_type": "stream",
       "stream": "stdout",
       "text": [
        "Size for regular values in lens dataframe: 457.8 MB\n"
       ]
      }
     ],
     "prompt_number": 5
    },
    {
     "cell_type": "code",
     "collapsed": false,
     "input": [
      "# Compute the overhead of the objects in dataframe\n",
      "dfo = lens.blocks['object']\n",
      "import sys\n",
      "overhead = sum(sys.getsizeof(o) for o in dfo.values.flat) / 2**20.\n",
      "print(\"Overhead of objects: %.1f MB\" % (overhead ,))"
     ],
     "language": "python",
     "metadata": {},
     "outputs": [
      {
       "output_type": "stream",
       "stream": "stdout",
       "text": [
        "Overhead of objects: 1115.1 MB\n"
       ]
      }
     ],
     "prompt_number": 6
    },
    {
     "cell_type": "code",
     "collapsed": false,
     "input": [
      "# Total size:\n",
      "dfsize = rsize + overhead\n",
      "print(\"Total size for the dataframe: %.1f MB\" % (dfsize,))"
     ],
     "language": "python",
     "metadata": {},
     "outputs": [
      {
       "output_type": "stream",
       "stream": "stdout",
       "text": [
        "Total size for the dataframe: 1572.8 MB\n"
       ]
      }
     ],
     "prompt_number": 7
    },
    {
     "cell_type": "code",
     "collapsed": false,
     "input": [
      "# Querying with pandas (simple query)\n",
      "t0 = time()\n",
      "#result = lens[lens['title'] == 'Tom and Huck (1995)']\n",
      "result = lens.query(\"title == 'Tom and Huck (1995)'\")\n",
      "dfsmplqtime = time() - t0\n",
      "print(\"time (and length) for simple query with pandas: %.2f (%d)\" %\n",
      "      (dfsmplqtime, len(result)))\n",
      "#print repr(result)"
     ],
     "language": "python",
     "metadata": {},
     "outputs": [
      {
       "output_type": "stream",
       "stream": "stdout",
       "text": [
        "time (and length) for simple query with pandas: 0.56 (899)\n"
       ]
      }
     ],
     "prompt_number": 8
    },
    {
     "cell_type": "code",
     "collapsed": false,
     "input": [
      "# Querying with pandas (complex query)\n",
      "t0 = time()\n",
      "#result = lens[(lens['title'] == 'Tom and Huck (1995)') & (lens['rating'] == 5)]['user_id']\n",
      "result = lens.query(\"(title == 'Tom and Huck (1995)') & (rating == 5)\")['user_id']\n",
      "dfcmplxqtime = time() - t0\n",
      "print(\"time (and length) for complex query with pandas: %.2f (%d)\" %\n",
      "      (dfcmplxqtime, len(result)))"
     ],
     "language": "python",
     "metadata": {},
     "outputs": [
      {
       "output_type": "stream",
       "stream": "stdout",
       "text": [
        "time (and length) for complex query with pandas: 0.59 (74)\n"
       ]
      }
     ],
     "prompt_number": 9
    },
    {
     "cell_type": "code",
     "collapsed": false,
     "input": [
      "# Get a bcolz array out of the lens dataframe (using compression by default)\n",
      "t0 = time()\n",
      "zlens = bcolz.ctable.fromdataframe(lens)\n",
      "print(\"time for ctable conversion: %.2f\" % (time()-t0))\n",
      "#print repr(zlens)"
     ],
     "language": "python",
     "metadata": {},
     "outputs": [
      {
       "output_type": "stream",
       "stream": "stdout",
       "text": [
        "time for ctable conversion: 2.90\n"
       ]
      }
     ],
     "prompt_number": 10
    },
    {
     "cell_type": "code",
     "collapsed": false,
     "input": [
      "# Get rid of the dataframe to cleanup memory\n",
      "del lens"
     ],
     "language": "python",
     "metadata": {},
     "outputs": [],
     "prompt_number": 11
    },
    {
     "cell_type": "code",
     "collapsed": false,
     "input": [
      "# Size for the compressed ctable\n",
      "zsize = zlens.cbytes / 2**20.\n",
      "print(\"Total size for the ctable: %.1f MB\" % (zsize,))\n",
      "# Compression ratio\n",
      "print(\"Compression ratio the ctable: %.1fx\" % (zlens.nbytes / float(zlens.cbytes),))\n",
      "# Reduction in size compared with the dataframe\n",
      "print(\"Storage savings compared with a dataframe: %.1fx\" % (dfsize / zsize,))"
     ],
     "language": "python",
     "metadata": {},
     "outputs": [
      {
       "output_type": "stream",
       "stream": "stdout",
       "text": [
        "Total size for the ctable: 90.6 MB\n",
        "Compression ratio the ctable: 20.2x\n",
        "Storage savings compared with a dataframe: 17.4x\n"
       ]
      }
     ],
     "prompt_number": 12
    },
    {
     "cell_type": "code",
     "collapsed": false,
     "input": [
      "t0 = time()\n",
      "result = zlens[\"title == 'Tom and Huck (1995)'\"]\n",
      "zsmplqtime = time() - t0\n",
      "print(\"time (and length) for simple query with bcolz: %.2f (%d)\" %\n",
      "      (zsmplqtime, len(result)))\n",
      "#print repr(result)"
     ],
     "language": "python",
     "metadata": {},
     "outputs": [
      {
       "output_type": "stream",
       "stream": "stdout",
       "text": [
        "time (and length) for simple query with bcolz: 0.26 (899)\n"
       ]
      }
     ],
     "prompt_number": 13
    },
    {
     "cell_type": "code",
     "collapsed": false,
     "input": [
      "t0 = time()\n",
      "#result = zlens[\"(title == 'Tom and Huck (1995)') & (rating == 5)\"]['user_id']\n",
      "result = [r.user_id for r in zlens.where(\n",
      "    \"(title == 'Tom and Huck (1995)') & (rating == 5)\", outcols=['user_id'])]\n",
      "zcmplxqtime = time() - t0\n",
      "print(\"time (and length) for complex query with bcolz: %.2f (%d)\" %\n",
      "      (zcmplxqtime, len(result)))\n",
      "#print(repr(result))"
     ],
     "language": "python",
     "metadata": {},
     "outputs": [
      {
       "output_type": "stream",
       "stream": "stdout",
       "text": [
        "time (and length) for complex query with bcolz: 0.29 (74)\n"
       ]
      }
     ],
     "prompt_number": 14
    },
    {
     "cell_type": "code",
     "collapsed": false,
     "input": [
      "# Size for the uncompressed ctable\n",
      "nzlens = zlens.copy(cparams=bcolz.cparams(clevel=0))\n",
      "nzsize = nzlens.cbytes / 2**20.\n",
      "print(\"Total size for the ctable: %.1f MB\" % (nzsize,))\n",
      "# Compression ratio\n",
      "print(\"Compression ratio the ctable: %.1fx\" % (nzlens.nbytes / float(nzlens.cbytes),))\n",
      "# Reduction in size compared with the dataframe\n",
      "print(\"Storage savings compared with a dataframe: %.1fx\" % (dfsize / nzsize,))"
     ],
     "language": "python",
     "metadata": {},
     "outputs": [
      {
       "output_type": "stream",
       "stream": "stdout",
       "text": [
        "Total size for the ctable: 1833.2 MB\n",
        "Compression ratio the ctable: 1.0x\n",
        "Storage savings compared with a dataframe: 0.9x\n"
       ]
      }
     ],
     "prompt_number": 15
    },
    {
     "cell_type": "code",
     "collapsed": false,
     "input": [
      "# Time for a simple query with the uncompressed ctable\n",
      "t0 = time()\n",
      "result = nzlens[\"title == 'Tom and Huck (1995)'\"]\n",
      "nzsmplqtime = time() - t0\n",
      "print(\"time (and length) for simple query with bcolz: %.2f (%d)\" %\n",
      "      (nzsmplqtime, len(result)))\n",
      "#print repr(result)"
     ],
     "language": "python",
     "metadata": {},
     "outputs": [
      {
       "output_type": "stream",
       "stream": "stdout",
       "text": [
        "time (and length) for simple query with bcolz: 0.30 (899)\n"
       ]
      }
     ],
     "prompt_number": 16
    },
    {
     "cell_type": "code",
     "collapsed": false,
     "input": [
      "# Time for a complex query with the uncompressed ctable\n",
      "t0 = time()\n",
      "#result = zlens[\"(title == 'Tom and Huck (1995)') & (rating == 5)\"]['user_id']\n",
      "result = [r.user_id for r in nzlens.where(\n",
      "    \"(title == 'Tom and Huck (1995)') & (rating == 5)\", outcols=['user_id'])]\n",
      "nzcmplxqtime = time() - t0\n",
      "print(\"time (and length) for complex query with bcolz: %.2f (%d)\" %\n",
      "      (nzcmplxqtime, len(result)))"
     ],
     "language": "python",
     "metadata": {},
     "outputs": [
      {
       "output_type": "stream",
       "stream": "stdout",
       "text": [
        "time (and length) for complex query with bcolz: 0.32 (74)\n"
       ]
      }
     ],
     "prompt_number": 17
    },
    {
     "cell_type": "code",
     "collapsed": false,
     "input": [
      "# Get rid of previous dataset to clean up memory\n",
      "del nzlens"
     ],
     "language": "python",
     "metadata": {},
     "outputs": [],
     "prompt_number": 18
    },
    {
     "cell_type": "code",
     "collapsed": false,
     "input": [
      "# Size for a disk-based ctable\n",
      "fname = \"ctable-10m.bcolz\"\n",
      "import shutil\n",
      "if os.path.exists(fname):\n",
      "    shutil.rmtree(fname)\n",
      "dblens = zlens.copy(rootdir=fname)\n",
      "# \"du -sh \"ctable-10m.bcolz\"\n",
      "dbsize = dblens.cbytes / 2**20.\n",
      "print(\"Total size for the ctable: %.1f MB\" % (dbsize,))\n",
      "# Compression ratio\n",
      "print(\"Compression ratio the ctable: %.1fx\" % (dblens.nbytes / float(dblens.cbytes),))\n",
      "# Reduction in size compared with the dataframe\n",
      "print(\"Storage savings compared with a dataframe: %.1fx\" % (dfsize / dbsize,))"
     ],
     "language": "python",
     "metadata": {},
     "outputs": [
      {
       "output_type": "stream",
       "stream": "stdout",
       "text": [
        "Total size for the ctable: 90.6 MB\n",
        "Compression ratio the ctable: 20.2x\n",
        "Storage savings compared with a dataframe: 17.4x\n"
       ]
      }
     ],
     "prompt_number": 19
    },
    {
     "cell_type": "code",
     "collapsed": false,
     "input": [
      "!du -sh \"ctable-10m.bcolz\""
     ],
     "language": "python",
     "metadata": {},
     "outputs": [
      {
       "output_type": "stream",
       "stream": "stdout",
       "text": [
        "90M\tctable-10m.bcolz\r\n"
       ]
      }
     ],
     "prompt_number": 20
    },
    {
     "cell_type": "code",
     "collapsed": false,
     "input": [
      "# Time for a simple query with the on-disk ctable\n",
      "t0 = time()\n",
      "result = dblens[\"title == 'Tom and Huck (1995)'\"]\n",
      "dbsmplqtime = time() - t0\n",
      "print(\"time (and length) for simple query with on-disk bcolz: %.2f (%d)\" %\n",
      "      (dbsmplqtime, len(result)))\n",
      "#print repr(result)"
     ],
     "language": "python",
     "metadata": {},
     "outputs": [
      {
       "output_type": "stream",
       "stream": "stdout",
       "text": [
        "time (and length) for simple query with on-disk bcolz: 0.33 (899)\n"
       ]
      }
     ],
     "prompt_number": 21
    },
    {
     "cell_type": "code",
     "collapsed": false,
     "input": [
      "# Time for a complex query with the uncompressed ctable\n",
      "t0 = time()\n",
      "#result = dblens[\"(title == 'Tom and Huck (1995)') & (rating == 5)\"]['user_id']\n",
      "result = [r.user_id for r in dblens.where(\n",
      "    \"(title == 'Tom and Huck (1995)') & (rating == 5)\", outcols=['user_id'])]\n",
      "dbcmplxqtime = time() - t0\n",
      "print(\"time (and length) for complex query with on-disk bcolz: %.2f (%d)\" %\n",
      "      (dbcmplxqtime, len(result)))"
     ],
     "language": "python",
     "metadata": {},
     "outputs": [
      {
       "output_type": "stream",
       "stream": "stdout",
       "text": [
        "time (and length) for complex query with on-disk bcolz: 0.36 (74)\n"
       ]
      }
     ],
     "prompt_number": 22
    },
    {
     "cell_type": "heading",
     "level": 2,
     "metadata": {},
     "source": [
      "Plots"
     ]
    },
    {
     "cell_type": "code",
     "collapsed": false,
     "input": [
      "# Sizes\n",
      "index = [\"pandas\", \"bcolz (memory, nocompr)\", \"bcolz (memory, compr)\", \"bcolz (disk, compr)\"]\n",
      "#index = [\"bcolz (disk)\", \"bcolz (compr)\", \"bcolz (nocompr)\", \"pandas\"]\n",
      "df = pd.DataFrame({'size (MB)': [dfsize, nzsize, zsize, dbsize]}, index=index)\n",
      "pd.options.display.mpl_style = 'default'\n",
      "df.plot(kind='barh', figsize=(12,7), fontsize=16, title=\"Size of the datasets\")"
     ],
     "language": "python",
     "metadata": {},
     "outputs": [
      {
       "metadata": {},
       "output_type": "pyout",
       "prompt_number": 23,
       "text": [
        "<matplotlib.axes.AxesSubplot at 0x7f3f9cfc69d0>"
       ]
      },
      {
       "metadata": {},
       "output_type": "display_data",
       "png": "[encoded data removed]",
       "text": [
        "<matplotlib.figure.Figure at 0x7f3f9cfc6450>"
       ]
      }
     ],
     "prompt_number": 23
    },
    {
     "cell_type": "code",
     "collapsed": false,
     "input": [
      "# Simple query times\n",
      "df = pd.DataFrame({'time (sec)': [dfsmplqtime, nzsmplqtime, zsmplqtime, dbsmplqtime]}, index=index)\n",
      "pd.options.display.mpl_style = 'default'\n",
      "df.plot(kind='barh', figsize=(12,5), fontsize=16, title=\"Simple query times for MovieLens 10M\")"
     ],
     "language": "python",
     "metadata": {},
     "outputs": [
      {
       "metadata": {},
       "output_type": "pyout",
       "prompt_number": 24,
       "text": [
        "<matplotlib.axes.AxesSubplot at 0x7f3f9cfc6210>"
       ]
      },
      {
       "metadata": {},
       "output_type": "display_data",
       "png": "[encoded data removed]",
       "text": [
        "<matplotlib.figure.Figure at 0x7f3f9cf63c10>"
       ]
      }
     ],
     "prompt_number": 24
    },
    {
     "cell_type": "code",
     "collapsed": false,
     "input": [
      "# Complex query times\n",
      "df = pd.DataFrame({'time (sec)': [dfcmplxqtime, nzcmplxqtime, zcmplxqtime, dbcmplxqtime]}, index=index)\n",
      "pd.options.display.mpl_style = 'default'\n",
      "df.plot(kind='barh', figsize=(12,5), fontsize=16, title=\"Complex query times for MovieLens 10M\")\n"
     ],
     "language": "python",
     "metadata": {},
     "outputs": [
      {
       "metadata": {},
       "output_type": "pyout",
       "prompt_number": 25,
       "text": [
        "<matplotlib.axes.AxesSubplot at 0x7f3f9c1b0690>"
       ]
      },
      {
       "metadata": {},
       "output_type": "display_data",
       "png": "[encoded data removed]",
       "text": [
        "<matplotlib.figure.Figure at 0x7f3f9c1a5a50>"
       ]
      }
     ],
     "prompt_number": 25
    },
    {
     "cell_type": "code",
     "collapsed": false,
     "input": [],
     "language": "python",
     "metadata": {},
     "outputs": [],
     "prompt_number": 25
    },
    {
     "cell_type": "code",
     "collapsed": false,
     "input": [],
     "language": "python",
     "metadata": {},
     "outputs": []
    }
   ],
   "metadata": {}
  }
 ]
}