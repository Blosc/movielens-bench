{
 "metadata": {
  "celltoolbar": "Raw Cell Format",
  "name": "",
  "signature": "sha256:1b41e0493731445d74b176726b804777b19301ff9971a35788f0d344c2dcf117"
 },
 "nbformat": 3,
 "nbformat_minor": 0,
 "worksheets": [
  {
   "cells": [
    {
     "cell_type": "markdown",
     "metadata": {},
     "source": [
      "\n",
      "# Benchmark for querying the MovieLens dataset using NumPy, pandas and bcolz"
     ]
    },
    {
     "cell_type": "code",
     "collapsed": false,
     "input": [
      "import os.path\n",
      "import numpy as np\n",
      "import pandas as pd\n",
      "import bcolz\n",
      "from time import time"
     ],
     "language": "python",
     "metadata": {},
     "outputs": [],
     "prompt_number": 1
    },
    {
     "cell_type": "markdown",
     "metadata": {},
     "source": [
      "## Import the CSV files in a pandas dataframe"
     ]
    },
    {
     "cell_type": "code",
     "collapsed": false,
     "input": [
      "# Read the CSV files\n",
      "def read_csv(dsetname, pdset):\n",
      "    # Directory where the data is\n",
      "    dset = 'ml-%s' % dsetname\n",
      "\n",
      "    # Load the ratings in a pandas dataframe\n",
      "    if dsetname == \"1m\":\n",
      "        fuser = os.path.join(dset, 'users.dat')\n",
      "        fdata = os.path.join(dset, 'ratings.dat.gz')\n",
      "        fitem = os.path.join(dset, 'movies.dat')\n",
      "        u_cols = ['user_id', 'sex', 'age', 'occupation', 'zip_code']\n",
      "        users = pd.read_csv(fuser, sep=';', names=u_cols)\n",
      "        r_cols = ['user_id', 'movie_id', 'rating', 'unix_timestamp']\n",
      "        ratings = pd.read_csv(fdata, sep=';', names=r_cols, compression='gzip')\n",
      "        m_cols = ['movie_id', 'title', 'genres']\n",
      "        movies = pd.read_csv(fitem, sep=';', names=m_cols,\n",
      "                             dtype={'title': \"S100\", 'genres': \"S100\"})\n",
      "    if dsetname == \"10m\":\n",
      "        ftags = os.path.join(dset, 'tags.dat')\n",
      "        fdata = os.path.join(dset, 'ratings.dat.gz')\n",
      "        fitem = os.path.join(dset, 'movies.dat')\n",
      "        t_cols = ['user_id', 'movie_id', 'tag', 'unix_timestamp']\n",
      "        tags = pd.read_csv(ftags, sep=';', names=t_cols)\n",
      "        r_cols = ['user_id', 'movie_id', 'rating', 'unix_timestamp']\n",
      "        ratings = pd.read_csv(fdata, sep=';', names=r_cols, compression='gzip')\n",
      "        m_cols = ['movie_id', 'title', 'genres']\n",
      "        movies = pd.read_csv(fitem, sep=';', names=m_cols,\n",
      "                             dtype={'title': \"S100\", 'genres': \"S100\"})       \n",
      "    # create one merged DataFrame\n",
      "    movie_ratings = pd.merge(movies, ratings)\n",
      "    # Doing the merge for '10m' would probably require more than 8 GB of RAM\n",
      "    #lens = pd.merge(movie_ratings, users)\n",
      "    lens = movie_ratings\n",
      "\n",
      "    # Store the data in HDF5/PyTables for faster load later on\n",
      "    lens.to_hdf(pdset, 'lens')\n",
      "    return lens"
     ],
     "language": "python",
     "metadata": {},
     "outputs": [],
     "prompt_number": 2
    },
    {
     "cell_type": "code",
     "collapsed": false,
     "input": [
      "dsetname = '1m'\n",
      "pdset = 'ml-%s.h5' % dsetname\n",
      "t0 = time()\n",
      "if os.path.exists(pdset):\n",
      "    lens = pd.read_hdf(pdset, 'lens')\n",
      "else:\n",
      "    lens = read_csv(dsetname, pdset)\n",
      "print(\"Time for loading the dataframe: %.2f\" % (time()-t0))\n",
      "print(\"Info for lens:\", lens.info())"
     ],
     "language": "python",
     "metadata": {},
     "outputs": [
      {
       "output_type": "stream",
       "stream": "stdout",
       "text": [
        "Time for loading the dataframe: 0.78\n",
        "<class 'pandas.core.frame.DataFrame'>\n",
        "Int64Index: 1000209 entries, 0 to 1000208\n",
        "Data columns (total 6 columns):\n",
        "movie_id          1000209 non-null int64\n",
        "title             1000209 non-null object\n",
        "genres            1000209 non-null object\n",
        "user_id           1000209 non-null int64\n",
        "rating            1000209 non-null int64\n",
        "unix_timestamp    1000209 non-null int64\n",
        "dtypes: int64(4), object(2)"
       ]
      },
      {
       "output_type": "stream",
       "stream": "stdout",
       "text": [
        "('Info for lens:', None)\n"
       ]
      }
     ],
     "prompt_number": 3
    },
    {
     "cell_type": "markdown",
     "metadata": {},
     "source": [
      "## Querying the pandas dataframe"
     ]
    },
    {
     "cell_type": "code",
     "collapsed": false,
     "input": [
      "# Querying the 'pandas way'\n",
      "t0 = time()\n",
      "for i in range(10):\n",
      "    result = lens[(lens['title'] == 'Tom and Huck (1995)') & (lens['rating'] == 5)]['user_id']\n",
      "dfqtime = (time() - t0) / 10.\n",
      "print(\"time (and length) for query with the 'pandas way': %.3f (%d)\" %\n",
      "      (dfqtime, len(result)))\n",
      "print(\"results:\\n%r\" % result)"
     ],
     "language": "python",
     "metadata": {},
     "outputs": [
      {
       "output_type": "stream",
       "stream": "stdout",
       "text": [
        "time (and length) for query with the 'pandas way': 0.168 (3)\n",
        "results:\n",
        "5121      75\n",
        "5164    3842\n",
        "5187    6031\n",
        "Name: user_id, dtype: int64\n"
       ]
      }
     ],
     "prompt_number": 4
    },
    {
     "cell_type": "code",
     "collapsed": false,
     "input": [
      "# Querying with pandas & numexpr (0.13 and higher)\n",
      "t0 = time()\n",
      "for i in range(10):\n",
      "    result = lens.query(\"(title == 'Tom and Huck (1995)') & (rating == 5)\")['user_id']\n",
      "nedfqtime = (time() - t0) / 10.\n",
      "print(\"time (and length) for complex query with pandas & numexpr: %.3f (%d)\" %\n",
      "      (nedfqtime, len(result)))"
     ],
     "language": "python",
     "metadata": {},
     "outputs": [
      {
       "output_type": "stream",
       "stream": "stdout",
       "text": [
        "time (and length) for complex query with pandas & numexpr: 0.094 (3)\n"
       ]
      }
     ],
     "prompt_number": 5
    },
    {
     "cell_type": "markdown",
     "metadata": {},
     "source": [
      "## Compute the size of the dataframe, taking in account the object overhead"
     ]
    },
    {
     "cell_type": "code",
     "collapsed": false,
     "input": [
      "# Size of the dataframe in-memory\n",
      "rsize = lens.values.nbytes / 2**20.\n",
      "print(\"Size for regular values in lens dataframe: %.1f MB\" % (rsize,))"
     ],
     "language": "python",
     "metadata": {},
     "outputs": [
      {
       "output_type": "stream",
       "stream": "stdout",
       "text": [
        "Size for regular values in lens dataframe: 45.8 MB\n"
       ]
      }
     ],
     "prompt_number": 6
    },
    {
     "cell_type": "code",
     "collapsed": false,
     "input": [
      "# Compute the overhead of the objects in dataframe\n",
      "dfo = lens.blocks['object']\n",
      "import sys\n",
      "overhead = sum(sys.getsizeof(o) for o in dfo.values.flat) / 2**20.\n",
      "print(\"Overhead of objects: %.1f MB\" % (overhead ,))"
     ],
     "language": "python",
     "metadata": {},
     "outputs": [
      {
       "output_type": "stream",
       "stream": "stdout",
       "text": [
        "Overhead of objects: 106.8 MB\n"
       ]
      }
     ],
     "prompt_number": 7
    },
    {
     "cell_type": "code",
     "collapsed": false,
     "input": [
      "# Total size:\n",
      "dfsize = rsize + overhead\n",
      "print(\"Total size for the dataframe: %.1f MB\" % (dfsize,))"
     ],
     "language": "python",
     "metadata": {},
     "outputs": [
      {
       "output_type": "stream",
       "stream": "stdout",
       "text": [
        "Total size for the dataframe: 152.6 MB\n"
       ]
      }
     ],
     "prompt_number": 8
    },
    {
     "cell_type": "markdown",
     "metadata": {},
     "source": [
      "# Using bcolz: a compressed, column store"
     ]
    },
    {
     "cell_type": "code",
     "collapsed": false,
     "input": [
      "# Using 1 single core for all bcolz operations\n",
      "bcolz.set_nthreads(1)"
     ],
     "language": "python",
     "metadata": {},
     "outputs": [
      {
       "metadata": {},
       "output_type": "pyout",
       "prompt_number": 9,
       "text": [
        "2"
       ]
      }
     ],
     "prompt_number": 9
    },
    {
     "cell_type": "markdown",
     "metadata": {},
     "source": [
      "## Build a ctable (bcolz object) out of the dataframe"
     ]
    },
    {
     "cell_type": "code",
     "collapsed": false,
     "input": [
      "# Get a bcolz ctable out of the lens dataframe (using compression)\n",
      "zlens = bcolz.ctable.fromdataframe(lens, cparams=bcolz.cparams(1))\n",
      "del lens   # remove reference to the pandas dataframe to save memory"
     ],
     "language": "python",
     "metadata": {},
     "outputs": [],
     "prompt_number": 10
    },
    {
     "cell_type": "markdown",
     "metadata": {},
     "source": [
      "## Query the ctable"
     ]
    },
    {
     "cell_type": "code",
     "collapsed": false,
     "input": [
      "t0 = time()\n",
      "for i in range(10):\n",
      "    result = [r.user_id for r in zlens.where(\n",
      "        \"(title == 'Tom and Huck (1995)') & (rating == 5)\", outcols=['user_id'])]\n",
      "zqtime = (time() - t0) / 10.\n",
      "print(\"time (and length) for query with bcolz: %.3f (%d)\" %\n",
      "      (zqtime, len(result)))"
     ],
     "language": "python",
     "metadata": {},
     "outputs": [
      {
       "output_type": "stream",
       "stream": "stdout",
       "text": [
        "time (and length) for query with bcolz: 0.152 (3)\n"
       ]
      }
     ],
     "prompt_number": 11
    },
    {
     "cell_type": "markdown",
     "metadata": {},
     "source": [
      "## Size for the compressed ctable"
     ]
    },
    {
     "cell_type": "code",
     "collapsed": false,
     "input": [
      "zsize = zlens.cbytes / 2**20.\n",
      "print(\"Total size for the ctable (compressed): %.1f MB\" % (zsize,))\n",
      "# Compression ratio\n",
      "print(\"Compression ratio for the ctable: %.2fx\" % (zlens.nbytes / float(zlens.cbytes),))\n",
      "# Reduction in size compared with the dataframe\n",
      "print(\"Size compared with a dataframe: %.2fx\" % (zsize / dfsize,))"
     ],
     "language": "python",
     "metadata": {},
     "outputs": [
      {
       "output_type": "stream",
       "stream": "stdout",
       "text": [
        "Total size for the ctable (compressed): 9.8 MB\n",
        "Compression ratio for the ctable: 15.64x\n",
        "Size compared with a dataframe: 0.06x\n"
       ]
      }
     ],
     "prompt_number": 12
    },
    {
     "cell_type": "markdown",
     "metadata": {},
     "source": [
      "## Testing an uncompressed ctable"
     ]
    },
    {
     "cell_type": "code",
     "collapsed": false,
     "input": [
      "# Copy the bcolz ctable to another that is uncompressed\n",
      "nzlens = zlens.copy(cparams=bcolz.cparams(clevel=0))\n",
      "#print repr(nzlens)"
     ],
     "language": "python",
     "metadata": {},
     "outputs": [],
     "prompt_number": 13
    },
    {
     "cell_type": "code",
     "collapsed": false,
     "input": [
      "t0 = time()\n",
      "for i in range(10):\n",
      "    result = [r.user_id for r in nzlens.where(\n",
      "        \"(title == 'Tom and Huck (1995)') & (rating == 5)\", outcols=['user_id'])]\n",
      "nzqtime = (time() - t0) / 10.\n",
      "print(\"time (and length) for query with bcolz: %.3f (%d)\" %\n",
      "      (nzqtime, len(result)))\n",
      "#print(repr(result))"
     ],
     "language": "python",
     "metadata": {},
     "outputs": [
      {
       "output_type": "stream",
       "stream": "stdout",
       "text": [
        "time (and length) for query with bcolz: 0.084 (3)\n"
       ]
      }
     ],
     "prompt_number": 14
    },
    {
     "cell_type": "code",
     "collapsed": false,
     "input": [
      "# Size for the compressed ctable\n",
      "nzsize = nzlens.cbytes / 2**20.\n",
      "print(\"Total size for the ctable (uncompressed): %.1f MB\" % (nzsize,))\n",
      "# Compression ratio\n",
      "print(\"Compression ratio for the ctable: %.2fx\" % (nzlens.nbytes / float(nzlens.cbytes),))\n",
      "# Reduction in size compared with the dataframe\n",
      "print(\"Size compared with a dataframe: %.2fx\" % (nzsize / dfsize,))"
     ],
     "language": "python",
     "metadata": {},
     "outputs": [
      {
       "output_type": "stream",
       "stream": "stdout",
       "text": [
        "Total size for the ctable (uncompressed): 154.5 MB\n",
        "Compression ratio for the ctable: 0.99x\n",
        "Size compared with a dataframe: 1.01x\n"
       ]
      }
     ],
     "prompt_number": 15
    },
    {
     "cell_type": "code",
     "collapsed": false,
     "input": [
      "# Get rid of the uncompressed datasets to clean up memory\n",
      "del nzlens"
     ],
     "language": "python",
     "metadata": {},
     "outputs": [],
     "prompt_number": 16
    },
    {
     "cell_type": "markdown",
     "metadata": {},
     "source": [
      "## Structured NumPy container"
     ]
    },
    {
     "cell_type": "code",
     "collapsed": false,
     "input": [
      "nplens = zlens[:]\n",
      "print repr(nplens)"
     ],
     "language": "python",
     "metadata": {},
     "outputs": [
      {
       "output_type": "stream",
       "stream": "stdout",
       "text": [
        "array([(1, 'Toy Story (1995)', \"Animation|Children's|Comedy\", 1, 5, 978824268),\n",
        "       (1, 'Toy Story (1995)', \"Animation|Children's|Comedy\", 6, 4, 978237008),\n",
        "       (1, 'Toy Story (1995)', \"Animation|Children's|Comedy\", 8, 4, 978233496),\n",
        "       ...,\n",
        "       (3952, 'Contender, The (2000)', 'Drama|Thriller', 5837, 4, 1011902656),\n",
        "       (3952, 'Contender, The (2000)', 'Drama|Thriller', 5927, 1, 979852537),\n",
        "       (3952, 'Contender, The (2000)', 'Drama|Thriller', 5998, 4, 1001781044)], \n",
        "      dtype=[('movie_id', '<i8'), ('title', 'S82'), ('genres', 'S47'), ('user_id', '<i8'), ('rating', '<i8'), ('unix_timestamp', '<i8')])\n"
       ]
      }
     ],
     "prompt_number": 17
    },
    {
     "cell_type": "markdown",
     "metadata": {},
     "source": [
      "## Querying the structured NumPy array"
     ]
    },
    {
     "cell_type": "code",
     "collapsed": false,
     "input": [
      "# Querying the 'numpy way'\n",
      "t0 = time()\n",
      "for i in range(10):\n",
      "    result = nplens[(nplens['title'] == 'Tom and Huck (1995)') & (nplens['rating'] == 5)]['user_id']\n",
      "    #result = nplens[(nplens['title'] == 'Tom and Huck (1995)')]['user_id']\n",
      "npqtime = (time() - t0) / 10.\n",
      "print(\"time (and length) for query with the 'numpy way': %.3f (%d)\" %\n",
      "      (npqtime, len(result)))"
     ],
     "language": "python",
     "metadata": {},
     "outputs": [
      {
       "output_type": "stream",
       "stream": "stdout",
       "text": [
        "time (and length) for query with the 'numpy way': 0.084 (3)\n"
       ]
      }
     ],
     "prompt_number": 18
    },
    {
     "cell_type": "code",
     "collapsed": false,
     "input": [
      "# Size of the numpy container\n",
      "# Size for the compressed ctable\n",
      "npsize = nplens.view('i1').size / 2**20.\n",
      "print(\"Total size for the numpy structured array: %.1f MB\" % (npsize,))\n",
      "# Reduction in size compared with the dataframe\n",
      "print(\"Size compared with a dataframe: %.2fx\" % (npsize / dfsize,))"
     ],
     "language": "python",
     "metadata": {},
     "outputs": [
      {
       "output_type": "stream",
       "stream": "stdout",
       "text": [
        "Total size for the numpy structured array: 153.6 MB\n",
        "Size compared with a dataframe: 1.01x\n"
       ]
      }
     ],
     "prompt_number": 19
    },
    {
     "cell_type": "markdown",
     "metadata": {},
     "source": [
      "# Plots"
     ]
    },
    {
     "cell_type": "code",
     "collapsed": false,
     "input": [
      "%matplotlib inline"
     ],
     "language": "python",
     "metadata": {},
     "outputs": [],
     "prompt_number": 20
    },
    {
     "cell_type": "code",
     "collapsed": false,
     "input": [
      "# Query times\n",
      "labels = [\"pandas native\", \"pandas numexpr\", \"bcolz (memory, compr)\",\n",
      "          \"bcolz (memory, nocompr)\", \"numpy\"]\n",
      "df = pd.DataFrame({'time (sec)': [dfqtime, nedfqtime, zqtime, nzqtime, npqtime]}, index=labels)\n",
      "pd.options.display.mpl_style = 'default'\n",
      "df.plot(kind='barh', figsize=(12,5), fontsize=16, title=\"Query times for MovieLens %s\" % dsetname)"
     ],
     "language": "python",
     "metadata": {},
     "outputs": [
      {
       "metadata": {},
       "output_type": "pyout",
       "prompt_number": 21,
       "text": [
        "<matplotlib.axes.AxesSubplot at 0x112a77950>"
       ]
      },
      {
       "metadata": {},
       "output_type": "display_data",
       "png": "[encoded data removed]",
       "text": [
        "<matplotlib.figure.Figure at 0x112a77590>"
       ]
      }
     ],
     "prompt_number": 21
    },
    {
     "cell_type": "code",
     "collapsed": false,
     "input": [
      "labels = [\"pandas\", \"bcolz (compr)\", \"bcolz (nocompr)\", \"numpy\"]\n",
      "df = pd.DataFrame({'size (MB)': [dfsize, zsize, nzsize, npsize]}, index=labels)\n",
      "pd.options.display.mpl_style = 'default'\n",
      "df.plot(kind='barh', figsize=(12,5), fontsize=16, title=\"Size of the datasets %s\" % dsetname)"
     ],
     "language": "python",
     "metadata": {},
     "outputs": [
      {
       "metadata": {},
       "output_type": "pyout",
       "prompt_number": 22,
       "text": [
        "<matplotlib.axes.AxesSubplot at 0x112b7e8d0>"
       ]
      },
      {
       "metadata": {},
       "output_type": "display_data",
       "png": "[encoded data removed]",
       "text": [
        "<matplotlib.figure.Figure at 0x112b88210>"
       ]
      }
     ],
     "prompt_number": 22
    },
    {
     "cell_type": "markdown",
     "metadata": {},
     "source": [
      "## Query times and sizes for the big iron machine"
     ]
    },
    {
     "cell_type": "code",
     "collapsed": false,
     "input": [
      "# Query times for 1m\n",
      "labels = [\"pandas native\", \"pandas numexpr\", \"bcolz (memory, compr)\",\n",
      "          \"bcolz (memory, nocompr)\", \"numpy\"]\n",
      "df = pd.DataFrame({'time (sec)': [0.110, 0.064, 0.027, 0.041, 0.114]}, index=labels)\n",
      "pd.options.display.mpl_style = 'default'\n",
      "df.plot(kind='barh', figsize=(12,5), fontsize=16, title=\"Query times for MovieLens 1m (Big Iron)\")"
     ],
     "language": "python",
     "metadata": {},
     "outputs": [
      {
       "metadata": {},
       "output_type": "pyout",
       "prompt_number": 23,
       "text": [
        "<matplotlib.axes.AxesSubplot at 0x113112110>"
       ]
      },
      {
       "metadata": {},
       "output_type": "display_data",
       "png": "[encoded data removed]",
       "text": [
        "<matplotlib.figure.Figure at 0x11317f390>"
       ]
      }
     ],
     "prompt_number": 23
    },
    {
     "cell_type": "code",
     "collapsed": false,
     "input": [
      "# Query times for 10m\n",
      "labels = [\"pandas native\", \"pandas numexpr\", \"bcolz (memory, compr)\",\n",
      "          \"bcolz (memory, nocompr)\", \"numpy\"]\n",
      "df = pd.DataFrame({'time (sec)': [1.019, 0.559, 0.383, 0.653, 1.362]}, index=labels)\n",
      "pd.options.display.mpl_style = 'default'\n",
      "df.plot(kind='barh', figsize=(12,5), fontsize=16, title=\"Query times for MovieLens 10m (Big Iron)\")"
     ],
     "language": "python",
     "metadata": {},
     "outputs": [
      {
       "metadata": {},
       "output_type": "pyout",
       "prompt_number": 24,
       "text": [
        "<matplotlib.axes.AxesSubplot at 0x1132cd550>"
       ]
      },
      {
       "metadata": {},
       "output_type": "display_data",
       "png": "[encoded data removed]",
       "text": [
        "<matplotlib.figure.Figure at 0x113348110>"
       ]
      }
     ],
     "prompt_number": 24
    },
    {
     "cell_type": "code",
     "collapsed": false,
     "input": [
      "labels = [\"pandas\", \"bcolz (compr)\", \"bcolz (nocompr)\", \"numpy\"]\n",
      "df = pd.DataFrame({'size (MB)': [1572.8, 90.6, 1833.2, 1831.1]}, index=labels)\n",
      "pd.options.display.mpl_style = 'default'\n",
      "df.plot(kind='barh', figsize=(12,5), fontsize=16, title=\"Size of the datasets 10m\")"
     ],
     "language": "python",
     "metadata": {},
     "outputs": [
      {
       "metadata": {},
       "output_type": "pyout",
       "prompt_number": 25,
       "text": [
        "<matplotlib.axes.AxesSubplot at 0x1133853d0>"
       ]
      },
      {
       "metadata": {},
       "output_type": "display_data",
       "png": "[encoded data removed]",
       "text": [
        "<matplotlib.figure.Figure at 0x1134b0bd0>"
       ]
      }
     ],
     "prompt_number": 25
    },
    {
     "cell_type": "markdown",
     "metadata": {},
     "source": [
      "# Some questions:"
     ]
    },
    {
     "cell_type": "markdown",
     "metadata": {},
     "source": [
      "1. Why numexpr can accelerate computations on pandas, when both packages are provided with computational kernels in C?\n",
      "2. Why NumPy queries are slow when compared with pandas or bcolz (at least in modern computers)?\n",
      "3. Why the overhead of compression is so little (if any)?"
     ]
    },
    {
     "cell_type": "markdown",
     "metadata": {},
     "source": [
      "To answer these we need to understand first the *Starving CPU Problem*"
     ]
    }
   ],
   "metadata": {}
  }
 ]
}