{
 "metadata": {
  "celltoolbar": "Raw Cell Format",
  "name": "",
  "signature": "sha256:c3596a69ce900b276ac2059e6416126b5a432b5790d8d9822e86925d7fe07337"
 },
 "nbformat": 3,
 "nbformat_minor": 0,
 "worksheets": [
  {
   "cells": [
    {
     "cell_type": "markdown",
     "metadata": {},
     "source": [
      "\n",
      "# Benchmark for querying the MovieLens dataset using pandas and bcolz"
     ]
    },
    {
     "cell_type": "code",
     "collapsed": false,
     "input": [
      "import os.path\n",
      "import numpy as np\n",
      "import pandas as pd\n",
      "import bcolz\n",
      "from time import time"
     ],
     "language": "python",
     "metadata": {},
     "outputs": [],
     "prompt_number": 1
    },
    {
     "cell_type": "markdown",
     "metadata": {},
     "source": [
      "## Import the CSV files in a pandas dataframe"
     ]
    },
    {
     "cell_type": "code",
     "collapsed": false,
     "input": [
      "# Read the CSV files\n",
      "def read_csv(dsetname, pdset):\n",
      "    # Directory where the data is\n",
      "    dset = 'ml-%s' % dsetname\n",
      "\n",
      "    # Load the ratings in a pandas dataframe\n",
      "    if dsetname == \"1m\":\n",
      "        fuser = os.path.join(dset, 'users.dat')\n",
      "        fdata = os.path.join(dset, 'ratings.dat.gz')\n",
      "        fitem = os.path.join(dset, 'movies.dat')\n",
      "        u_cols = ['user_id', 'sex', 'age', 'occupation', 'zip_code']\n",
      "        users = pd.read_csv(fuser, sep=';', names=u_cols)\n",
      "        r_cols = ['user_id', 'movie_id', 'rating', 'unix_timestamp']\n",
      "        ratings = pd.read_csv(fdata, sep=';', names=r_cols, compression='gzip')\n",
      "        m_cols = ['movie_id', 'title', 'genres']\n",
      "        movies = pd.read_csv(fitem, sep=';', names=m_cols,\n",
      "                             dtype={'title': \"S100\", 'genres': \"S100\"})\n",
      "    if dsetname == \"10m\":\n",
      "        ftags = os.path.join(dset, 'tags.dat')\n",
      "        fdata = os.path.join(dset, 'ratings.dat.gz')\n",
      "        fitem = os.path.join(dset, 'movies.dat')\n",
      "        t_cols = ['user_id', 'movie_id', 'tag', 'unix_timestamp']\n",
      "        tags = pd.read_csv(ftags, sep=';', names=t_cols)\n",
      "        r_cols = ['user_id', 'movie_id', 'rating', 'unix_timestamp']\n",
      "        ratings = pd.read_csv(fdata, sep=';', names=r_cols, compression='gzip')\n",
      "        m_cols = ['movie_id', 'title', 'genres']\n",
      "        movies = pd.read_csv(fitem, sep=';', names=m_cols,\n",
      "                             dtype={'title': \"S100\", 'genres': \"S100\"})       \n",
      "    # create one merged DataFrame\n",
      "    movie_ratings = pd.merge(movies, ratings)\n",
      "    # Doing the merge for '10m' would probably require more than 8 GB of RAM\n",
      "    #lens = pd.merge(movie_ratings, users)\n",
      "    lens = movie_ratings\n",
      "\n",
      "    # Store the data in HDF5/PyTables for faster load later on\n",
      "    lens.to_hdf(pdset, 'lens')\n",
      "    return lens"
     ],
     "language": "python",
     "metadata": {},
     "outputs": [],
     "prompt_number": 2
    },
    {
     "cell_type": "code",
     "collapsed": false,
     "input": [
      "dsetname = '10m'\n",
      "pdset = 'ml-%s.h5' % dsetname\n",
      "t0 = time()\n",
      "if os.path.exists(pdset):\n",
      "    lens = pd.read_hdf(pdset, 'lens')\n",
      "else:\n",
      "    lens = read_csv(dsetname, pdset)\n",
      "print(\"Time for loading the dataframe: %.2f\" % (time()-t0))\n",
      "print(\"Info for lens:\", lens.info())"
     ],
     "language": "python",
     "metadata": {},
     "outputs": [
      {
       "output_type": "stream",
       "stream": "stdout",
       "text": [
        "Time for loading the dataframe: 12.65\n",
        "<class 'pandas.core.frame.DataFrame'>\n",
        "Int64Index: 10000054 entries, 0 to 10000053\n",
        "Data columns (total 6 columns):\n",
        "movie_id          int64\n",
        "title             object\n",
        "genres            object\n",
        "user_id           int64\n",
        "rating            float64\n",
        "unix_timestamp    int64\n",
        "dtypes: float64(1), int64(3), object(2)"
       ]
      },
      {
       "output_type": "stream",
       "stream": "stdout",
       "text": [
        "('Info for lens:', None)\n"
       ]
      }
     ],
     "prompt_number": 31
    },
    {
     "cell_type": "markdown",
     "metadata": {},
     "source": [
      "## Querying the pandas dataframe"
     ]
    },
    {
     "cell_type": "code",
     "collapsed": false,
     "input": [
      "# Querying the 'pandas way'\n",
      "t0 = time()\n",
      "for i in range(10):\n",
      "    result = lens[(lens['title'] == 'Tom and Huck (1995)') & (lens['rating'] == 5)]['user_id']\n",
      "dfqtime = (time() - t0) / 10.\n",
      "print(\"time (and length) for query with the 'pandas way': %.3f (%d)\" %\n",
      "      (dfqtime, len(result)))\n",
      "print(\"results:\\n%r\" % result)"
     ],
     "language": "python",
     "metadata": {},
     "outputs": [
      {
       "output_type": "stream",
       "stream": "stdout",
       "text": [
        "time (and length) for query with the 'pandas way': 1.505 (74)\n",
        "results:\n",
        "76946     1038\n",
        "76983     5304\n",
        "77001     6602\n",
        "77007     6883\n",
        "77014     7467\n",
        "77020     7558\n",
        "77033     7999\n",
        "77063     9477\n",
        "77073    10088\n",
        "77078    10451\n",
        "77079    10465\n",
        "77081    10596\n",
        "77106    12504\n",
        "77110    12868\n",
        "77115    13333\n",
        "...\n",
        "77680    57684\n",
        "77695    58808\n",
        "77709    59907\n",
        "77710    60005\n",
        "77717    60419\n",
        "77719    60496\n",
        "77727    61172\n",
        "77760    65118\n",
        "77789    67850\n",
        "77806    70240\n",
        "77808    70321\n",
        "77814    70648\n",
        "77816    70887\n",
        "77819    71041\n",
        "77826    71207\n",
        "Name: user_id, Length: 74, dtype: int64\n"
       ]
      }
     ],
     "prompt_number": 32
    },
    {
     "cell_type": "code",
     "collapsed": false,
     "input": [
      "# Querying with pandas & numexpr\n",
      "t0 = time()\n",
      "for i in range(10):\n",
      "    result = lens.query(\"(title == 'Tom and Huck (1995)') & (rating == 5)\")['user_id']\n",
      "nedfqtime = (time() - t0) / 10.\n",
      "print(\"time (and length) for complex query with pandas & numexpr: %.3f (%d)\" %\n",
      "      (nedfqtime, len(result)))"
     ],
     "language": "python",
     "metadata": {},
     "outputs": [
      {
       "output_type": "stream",
       "stream": "stdout",
       "text": [
        "time (and length) for complex query with pandas & numexpr: 0.923 (74)\n"
       ]
      }
     ],
     "prompt_number": 33
    },
    {
     "cell_type": "markdown",
     "metadata": {},
     "source": [
      "## Compute the size of the dataframe, taking in account the object overhead"
     ]
    },
    {
     "cell_type": "code",
     "collapsed": false,
     "input": [
      "# Size of the dataframe in-memory\n",
      "rsize = lens.values.nbytes / 2**20.\n",
      "print(\"Size for regular values in lens dataframe: %.1f MB\" % (rsize,))"
     ],
     "language": "python",
     "metadata": {},
     "outputs": [
      {
       "output_type": "stream",
       "stream": "stdout",
       "text": [
        "Size for regular values in lens dataframe: 457.8 MB\n"
       ]
      }
     ],
     "prompt_number": 34
    },
    {
     "cell_type": "code",
     "collapsed": false,
     "input": [
      "# Compute the overhead of the objects in dataframe\n",
      "dfo = lens.blocks['object']\n",
      "import sys\n",
      "overhead = sum(sys.getsizeof(o) for o in dfo.values.flat) / 2**20.\n",
      "print(\"Overhead of objects: %.1f MB\" % (overhead ,))"
     ],
     "language": "python",
     "metadata": {},
     "outputs": [
      {
       "output_type": "stream",
       "stream": "stdout",
       "text": [
        "Overhead of objects: 1115.1 MB\n"
       ]
      }
     ],
     "prompt_number": 35
    },
    {
     "cell_type": "code",
     "collapsed": false,
     "input": [
      "# Total size:\n",
      "dfsize = rsize + overhead\n",
      "print(\"Total size for the dataframe: %.1f MB\" % (dfsize,))"
     ],
     "language": "python",
     "metadata": {},
     "outputs": [
      {
       "output_type": "stream",
       "stream": "stdout",
       "text": [
        "Total size for the dataframe: 1572.8 MB\n"
       ]
      }
     ],
     "prompt_number": 36
    },
    {
     "cell_type": "markdown",
     "metadata": {},
     "source": [
      "# Using bcolz: a compressed, column store"
     ]
    },
    {
     "cell_type": "code",
     "collapsed": false,
     "input": [
      "# Global settings for bcolz and pandas (for experimenting, modify some of the lines below)\n",
      "#bcolz.defaults.cparams['cname'] = 'blosclz'\n",
      "#bcolz.defaults.cparams['clevel'] = 0\n",
      "bcolz.set_nthreads(1)\n",
      "#bcolz.defaults.eval_vm = \"numexpr\"\n",
      "#bcolz.blosc_set_nthreads(2)\n",
      "#bcolz.numexpr.set_num_threads(2)\n",
      "# from pandas.computation import expressions as expr\n",
      "# expr.set_use_numexpr(True)\n",
      "# expr.set_numexpr_threads(1)"
     ],
     "language": "python",
     "metadata": {},
     "outputs": [
      {
       "metadata": {},
       "output_type": "pyout",
       "prompt_number": 37,
       "text": [
        "1"
       ]
      }
     ],
     "prompt_number": 37
    },
    {
     "cell_type": "markdown",
     "metadata": {},
     "source": [
      "## Build a ctable (bcolz object) out of the dataframe"
     ]
    },
    {
     "cell_type": "code",
     "collapsed": false,
     "input": [
      "# Get a bcolz ctable out of the lens dataframe (using compression)\n",
      "zlens = bcolz.ctable.fromdataframe(lens, cparams=bcolz.cparams(1))\n",
      "del lens   # remove reference to the pandas dataframe to save memory"
     ],
     "language": "python",
     "metadata": {},
     "outputs": [],
     "prompt_number": 38
    },
    {
     "cell_type": "markdown",
     "metadata": {},
     "source": [
      "## Query the ctable"
     ]
    },
    {
     "cell_type": "code",
     "collapsed": false,
     "input": [
      "t0 = time()\n",
      "for i in range(10):\n",
      "    result = [r.user_id for r in zlens.where(\n",
      "        \"(title == 'Tom and Huck (1995)') & (rating == 5)\", outcols=['user_id'])]\n",
      "zqtime = (time() - t0) / 10.\n",
      "print(\"time (and length) for query with bcolz: %.3f (%d)\" %\n",
      "      (zqtime, len(result)))"
     ],
     "language": "python",
     "metadata": {},
     "outputs": [
      {
       "output_type": "stream",
       "stream": "stdout",
       "text": [
        "time (and length) for query with bcolz: 1.472 (74)\n"
       ]
      }
     ],
     "prompt_number": 39
    },
    {
     "cell_type": "markdown",
     "metadata": {},
     "source": [
      "## Size for the compressed ctable"
     ]
    },
    {
     "cell_type": "code",
     "collapsed": false,
     "input": [
      "zsize = zlens.cbytes / 2**20.\n",
      "print(\"Total size for the ctable: %.1f MB\" % (zsize,))\n",
      "# Compression ratio\n",
      "print(\"Compression ratio for the ctable: %.1fx\" % (zlens.nbytes / float(zlens.cbytes),))\n",
      "# Reduction in size compared with the dataframe\n",
      "print(\"Size compared with a dataframe: %.1fx\" % (zsize / dfsize,))"
     ],
     "language": "python",
     "metadata": {},
     "outputs": [
      {
       "output_type": "stream",
       "stream": "stdout",
       "text": [
        "Total size for the ctable: 90.6 MB\n",
        "Compression ratio the ctable: 20.2x\n",
        "Size compared with a dataframe: 0.1x\n"
       ]
      }
     ],
     "prompt_number": 40
    },
    {
     "cell_type": "markdown",
     "metadata": {},
     "source": [
      "## Testing an uncompressed ctable"
     ]
    },
    {
     "cell_type": "code",
     "collapsed": false,
     "input": [
      "# Copy the bcolz ctable to another that is uncompressed\n",
      "nzlens = zlens.copy(cparams=bcolz.cparams(clevel=0))\n",
      "#print repr(nzlens)"
     ],
     "language": "python",
     "metadata": {},
     "outputs": [],
     "prompt_number": 41
    },
    {
     "cell_type": "code",
     "collapsed": false,
     "input": [
      "t0 = time()\n",
      "for i in range(10):\n",
      "    result = [r.user_id for r in nzlens.where(\n",
      "        \"(title == 'Tom and Huck (1995)') & (rating == 5)\", outcols=['user_id'])]\n",
      "nzqtime = (time() - t0) / 10.\n",
      "print(\"time (and length) for query with bcolz: %.3f (%d)\" %\n",
      "      (nzqtime, len(result)))\n",
      "#print(repr(result))"
     ],
     "language": "python",
     "metadata": {},
     "outputs": [
      {
       "output_type": "stream",
       "stream": "stdout",
       "text": [
        "time (and length) for query with bcolz: 0.862 (74)\n"
       ]
      }
     ],
     "prompt_number": 42
    },
    {
     "cell_type": "code",
     "collapsed": false,
     "input": [
      "# Size for the compressed ctable\n",
      "nzsize = nzlens.cbytes / 2**20.\n",
      "print(\"Total size for the ctable: %.1f MB\" % (nzsize,))\n",
      "# Compression ratio\n",
      "print(\"Compression ratio for the ctable: %.1fx\" % (nzlens.nbytes / float(nzlens.cbytes),))\n",
      "# Reduction in size compared with the dataframe\n",
      "print(\"Size compared with a dataframe: %.1fx\" % (nzsize / dfsize,))"
     ],
     "language": "python",
     "metadata": {},
     "outputs": [
      {
       "output_type": "stream",
       "stream": "stdout",
       "text": [
        "Total size for the ctable: 1833.2 MB\n",
        "Compression ratio for the ctable: 1.0x\n",
        "Size compared with a dataframe: 1.2x\n"
       ]
      }
     ],
     "prompt_number": 43
    },
    {
     "cell_type": "code",
     "collapsed": false,
     "input": [
      "# Get rid of the uncompressed datasets to clean up memory\n",
      "del nzlens"
     ],
     "language": "python",
     "metadata": {},
     "outputs": [],
     "prompt_number": 44
    },
    {
     "cell_type": "markdown",
     "metadata": {},
     "source": [
      "## Structured NumPy container"
     ]
    },
    {
     "cell_type": "code",
     "collapsed": false,
     "input": [
      "nplens = zlens[:]\n",
      "print repr(nplens)"
     ],
     "language": "python",
     "metadata": {},
     "outputs": [
      {
       "output_type": "stream",
       "stream": "stdout",
       "text": [
        "array([ (1, 'Toy Story (1995)', 'Adventure|Animation|Children|Comedy|Fantasy', 5, 1.0, 857911264),\n",
        "       (1, 'Toy Story (1995)', 'Adventure|Animation|Children|Comedy|Fantasy', 14, 3.0, 1133572007),\n",
        "       (1, 'Toy Story (1995)', 'Adventure|Animation|Children|Comedy|Fantasy', 18, 3.0, 1111545931),\n",
        "       ...,\n",
        "       (65133, 'Blackadder Back & Forth (1999)', 'Comedy', 40570, 2.0, 1231055397),\n",
        "       (65133, 'Blackadder Back & Forth (1999)', 'Comedy', 45430, 2.5, 1231105425),\n",
        "       (65133, 'Blackadder Back & Forth (1999)', 'Comedy', 68151, 5.0, 1231129793)], \n",
        "      dtype=[('movie_id', '<i8'), ('title', 'S100'), ('genres', 'S60'), ('user_id', '<i8'), ('rating', '<f8'), ('unix_timestamp', '<i8')])\n"
       ]
      }
     ],
     "prompt_number": 45
    },
    {
     "cell_type": "markdown",
     "metadata": {},
     "source": [
      "## Querying the structured NumPy array"
     ]
    },
    {
     "cell_type": "code",
     "collapsed": false,
     "input": [
      "# Querying the 'numpy way'\n",
      "t0 = time()\n",
      "for i in range(10):\n",
      "    result = nplens[(nplens['title'] == 'Tom and Huck (1995)') & (nplens['rating'] == 5)]['user_id']\n",
      "    #result = nplens[(nplens['title'] == 'Tom and Huck (1995)')]['user_id']\n",
      "npqtime = (time() - t0) / 10.\n",
      "print(\"time (and length) for query with the 'numpy way': %.3f (%d)\" %\n",
      "      (npqtime, len(result)))"
     ],
     "language": "python",
     "metadata": {},
     "outputs": [
      {
       "output_type": "stream",
       "stream": "stdout",
       "text": [
        "time (and length) for query with the 'numpy way': 0.824 (74)\n"
       ]
      }
     ],
     "prompt_number": 46
    },
    {
     "cell_type": "code",
     "collapsed": false,
     "input": [
      "# Size of the numpy container\n",
      "# Size for the compressed ctable\n",
      "npsize = nplens.view('i1').size / 2**20.\n",
      "print(\"Total size for the numpy structured array: %.1f MB\" % (npsize,))\n",
      "# Reduction in size compared with the dataframe\n",
      "print(\"Size compared with a dataframe: %.1fx\" % (npsize / dfsize,))"
     ],
     "language": "python",
     "metadata": {},
     "outputs": [
      {
       "output_type": "stream",
       "stream": "stdout",
       "text": [
        "Total size for the numpy structured array: 1831.1 MB\n",
        "Size compared with a dataframe: 1.2x\n"
       ]
      }
     ],
     "prompt_number": 47
    },
    {
     "cell_type": "markdown",
     "metadata": {},
     "source": [
      "# Plots"
     ]
    },
    {
     "cell_type": "code",
     "collapsed": false,
     "input": [
      "%matplotlib inline"
     ],
     "language": "python",
     "metadata": {},
     "outputs": [],
     "prompt_number": 48
    },
    {
     "cell_type": "code",
     "collapsed": false,
     "input": [
      "# Query times\n",
      "labels = [\"pandas native\", \"pandas numexpr\", \"bcolz (memory, compr)\",\n",
      "          \"bcolz (memory, nocompr)\", \"numpy\"]\n",
      "df = pd.DataFrame({'time (sec)': [dfqtime, nedfqtime, zqtime, nzqtime, npqtime]}, index=labels)\n",
      "pd.options.display.mpl_style = 'default'\n",
      "df.plot(kind='barh', figsize=(12,5), fontsize=16, title=\"Query times for MovieLens %s\" % dsetname)"
     ],
     "language": "python",
     "metadata": {},
     "outputs": [
      {
       "metadata": {},
       "output_type": "pyout",
       "prompt_number": 54,
       "text": [
        "<matplotlib.axes.AxesSubplot at 0x1107ffa50>"
       ]
      },
      {
       "metadata": {},
       "output_type": "display_data",
       "png": "[encoded data removed]",
       "text": [
        "<matplotlib.figure.Figure at 0x11080a690>"
       ]
      }
     ],
     "prompt_number": 54
    },
    {
     "cell_type": "code",
     "collapsed": false,
     "input": [
      "labels = [\"pandas\", \"bcolz (nocompr)\", \"bcolz (compr)\", \"numpy\"]\n",
      "df = pd.DataFrame({'size (MB)': [dfsize, nzsize, zsize, npsize]}, index=labels)\n",
      "pd.options.display.mpl_style = 'default'\n",
      "df.plot(kind='barh', figsize=(12,5), fontsize=16, title=\"Size of the datasets (MB)\")"
     ],
     "language": "python",
     "metadata": {},
     "outputs": [
      {
       "metadata": {},
       "output_type": "pyout",
       "prompt_number": 50,
       "text": [
        "<matplotlib.axes.AxesSubplot at 0x114a4ea50>"
       ]
      },
      {
       "metadata": {},
       "output_type": "display_data",
       "png": "[encoded data removed]",
       "text": [
        "<matplotlib.figure.Figure at 0x114a57150>"
       ]
      }
     ],
     "prompt_number": 50
    },
    {
     "cell_type": "markdown",
     "metadata": {},
     "source": [
      "## Query times for the big iron machine (1m)"
     ]
    },
    {
     "cell_type": "code",
     "collapsed": false,
     "input": [
      "# Query times\n",
      "labels = [\"pandas native\", \"pandas numexpr\", \"bcolz (memory, compr)\",\n",
      "          \"bcolz (memory, nocompr)\", \"numpy\"]\n",
      "df = pd.DataFrame({'time (sec)': [0.110, 0.064, 0.027, 0.041, 0.114]}, index=labels)\n",
      "pd.options.display.mpl_style = 'default'\n",
      "df.plot(kind='barh', figsize=(12,5), fontsize=16, title=\"Query times for MovieLens 1m (Big Iron)\")"
     ],
     "language": "python",
     "metadata": {},
     "outputs": [
      {
       "metadata": {},
       "output_type": "pyout",
       "prompt_number": 55,
       "text": [
        "<matplotlib.axes.AxesSubplot at 0x111030610>"
       ]
      },
      {
       "metadata": {},
       "output_type": "display_data",
       "png": "[encoded data removed]",
       "text": [
        "<matplotlib.figure.Figure at 0x114261510>"
       ]
      }
     ],
     "prompt_number": 55
    },
    {
     "cell_type": "markdown",
     "metadata": {},
     "source": [
      "## Query times for the big iron machine (10m)"
     ]
    },
    {
     "cell_type": "code",
     "collapsed": false,
     "input": [
      "# Query times\n",
      "labels = [\"pandas native\", \"pandas numexpr\", \"bcolz (memory, compr)\",\n",
      "          \"bcolz (memory, nocompr)\", \"numpy\"]\n",
      "df = pd.DataFrame({'time (sec)': [1.019, 0.559, 0.383, 0.653, 1.362]}, index=labels)\n",
      "pd.options.display.mpl_style = 'default'\n",
      "df.plot(kind='barh', figsize=(12,5), fontsize=16, title=\"Query times for MovieLens 10m (Big Iron)\")"
     ],
     "language": "python",
     "metadata": {},
     "outputs": [
      {
       "metadata": {},
       "output_type": "pyout",
       "prompt_number": 57,
       "text": [
        "<matplotlib.axes.AxesSubplot at 0x1126b0d90>"
       ]
      },
      {
       "metadata": {},
       "output_type": "display_data",
       "png": "[encoded data removed]",
       "text": [
        "<matplotlib.figure.Figure at 0x11060b550>"
       ]
      }
     ],
     "prompt_number": 57
    },
    {
     "cell_type": "markdown",
     "metadata": {},
     "source": [
      "# Some questions:"
     ]
    },
    {
     "cell_type": "markdown",
     "metadata": {},
     "source": [
      "1. Why numexpr can accelerate computations on pandas, when both packages are provided with computational kernels in C?\n",
      "2. Why the overhead of compression is so little (if any)?\n",
      "3. Why NumPy queries are slow when compared with pandas or bcolz (at least in modern computers)?"
     ]
    },
    {
     "cell_type": "markdown",
     "metadata": {},
     "source": [
      "To answer these we need to understand first the *Starving CPU Problem*"
     ]
    }
   ],
   "metadata": {}
  }
 ]
}