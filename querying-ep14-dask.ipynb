{
 "cells": [
  {
   "cell_type": "markdown",
   "metadata": {},
   "source": [
    "# Benchmark for querying the MovieLens dataset using pandas and bcolz"
   ]
  },
  {
   "cell_type": "markdown",
   "metadata": {},
   "source": [
    "This benchmark has been run on a Xeon E3-1245 v5 @ 3.50GHz (Skylake, 4 physical cores) with Ubuntu Linux 16.04.  The virtual machine for bcolz is Dask."
   ]
  },
  {
   "cell_type": "code",
   "execution_count": 1,
   "metadata": {
    "collapsed": false
   },
   "outputs": [],
   "source": [
    "import os.path\n",
    "import numpy as np\n",
    "import pandas as pd\n",
    "import bcolz\n",
    "from time import time"
   ]
  },
  {
   "cell_type": "code",
   "execution_count": 2,
   "metadata": {
    "collapsed": false
   },
   "outputs": [
    {
     "name": "stdout",
     "output_type": "stream",
     "text": [
      "-=-=-=-=-=-=-=-=-=-=-=-=-=-=-=-=-=-=-=-=-=-=-=-=-=-=-=-=-=-=-=-=-=-=-=-=-=-=\n",
      "bcolz version:     1.1.1.dev16\n",
      "NumPy version:     1.11.1\n",
      "Blosc version:     1.9.3 ($Date:: 2016-07-06 #$)\n",
      "Blosc compressors: ['blosclz', 'lz4', 'lz4hc', 'snappy', 'zlib']\n",
      "Numexpr version:   2.6.1\n",
      "Dask version:      0.10.1\n",
      "Python version:    2.7.12 |Continuum Analytics, Inc.| (default, Jul  2 2016, 17:42:40) \n",
      "[GCC 4.4.7 20120313 (Red Hat 4.4.7-1)]\n",
      "Platform:          linux2-x86_64\n",
      "Byte-ordering:     little\n",
      "Detected cores:    8\n",
      "-=-=-=-=-=-=-=-=-=-=-=-=-=-=-=-=-=-=-=-=-=-=-=-=-=-=-=-=-=-=-=-=-=-=-=-=-=-=\n"
     ]
    }
   ],
   "source": [
    "bcolz.print_versions()"
   ]
  },
  {
   "cell_type": "markdown",
   "metadata": {},
   "source": [
    "## Import the CSV files in a pandas dataframe"
   ]
  },
  {
   "cell_type": "code",
   "execution_count": 3,
   "metadata": {
    "collapsed": false
   },
   "outputs": [],
   "source": [
    "# Files where the data is (using the 10M dataset here)\n",
    "dset = 'ml-10m'\n",
    "ftags = os.path.join(dset, 'tags.dat')\n",
    "fdata = os.path.join(dset, 'ratings.dat.gz')\n",
    "fitem = os.path.join(dset, 'movies.dat')\n",
    "\n",
    "zdset = 'ml-10m.blz'\n",
    "pdset = 'ml-10m.h5'"
   ]
  },
  {
   "cell_type": "code",
   "execution_count": 4,
   "metadata": {
    "collapsed": false
   },
   "outputs": [],
   "source": [
    "# Global settings for bcolz and pandas (for experimenting, modify some of the lines below)\n",
    "bcolz.defaults.cparams['cname'] = 'blosclz'\n",
    "bcolz.defaults.cparams['clevel'] = 1\n",
    "bcolz.defaults.eval_vm = \"dask\"\n",
    "#bcolz.blosc_set_nthreads(4)\n",
    "#bcolz.numexpr.set_num_threads(4)\n",
    "# from pandas.computation import expressions as expr\n",
    "# expr.set_use_numexpr(True)\n",
    "# expr.set_numexpr_threads(1)"
   ]
  },
  {
   "cell_type": "code",
   "execution_count": 5,
   "metadata": {
    "collapsed": false
   },
   "outputs": [
    {
     "name": "stdout",
     "output_type": "stream",
     "text": [
      "Time for parsing the data: 2.95\n",
      "Time for dataframe merges: 0.68\n",
      "<class 'pandas.core.frame.DataFrame'>\n",
      "Int64Index: 10000054 entries, 0 to 10000053\n",
      "Data columns (total 6 columns):\n",
      "movie_id          int64\n",
      "title             object\n",
      "genres            object\n",
      "user_id           int64\n",
      "rating            float64\n",
      "unix_timestamp    int64\n",
      "dtypes: float64(1), int64(3), object(2)\n",
      "memory usage: 534.1+ MB\n",
      "('Info for movie_ratings:', None)\n",
      "<class 'pandas.core.frame.DataFrame'>\n",
      "Int64Index: 10000054 entries, 0 to 10000053\n",
      "Data columns (total 6 columns):\n",
      "movie_id          int64\n",
      "title             object\n",
      "genres            object\n",
      "user_id           int64\n",
      "rating            float64\n",
      "unix_timestamp    int64\n",
      "dtypes: float64(1), int64(3), object(2)\n",
      "memory usage: 534.1+ MB\n",
      "('Info for lens:', None)\n"
     ]
    }
   ],
   "source": [
    "# Load the ratings in a pandas dataframe\n",
    "t0 = time()\n",
    "# pass in column names for each CSV\n",
    "t_cols = ['user_id', 'movie_id', 'tag', 'unix_timestamp']\n",
    "tags = pd.read_csv(ftags, sep=';', names=t_cols)\n",
    "#print(\"Info for tags:\", tags.info())\n",
    "\n",
    "r_cols = ['user_id', 'movie_id', 'rating', 'unix_timestamp']\n",
    "ratings = pd.read_csv(fdata, sep=';', names=r_cols, compression='gzip')\n",
    "\n",
    "m_cols = ['movie_id', 'title', 'genres']\n",
    "movies = pd.read_csv(fitem, sep=';', names=m_cols,\n",
    "                     dtype={'title': \"S100\", 'genres': \"S100\"})\n",
    "print(\"Time for parsing the data: %.2f\" % (time()-t0,)) \n",
    "\n",
    "t0 = time()\n",
    "# create one merged DataFrame\n",
    "movie_ratings = pd.merge(movies, ratings)\n",
    "# You probably need more than 8 GB in RAM for the next merge\n",
    "#lens = pd.merge(movie_ratings, tags, on='user_id')\n",
    "lens = movie_ratings\n",
    "print(\"Time for dataframe merges: %.2f\" % (time()-t0,)) \n",
    "print(\"Info for movie_ratings:\", movie_ratings.info())\n",
    "print(\"Info for lens:\", lens.info())"
   ]
  },
  {
   "cell_type": "markdown",
   "metadata": {},
   "source": [
    "## Compute the size of the dataframe, taking in account the true object overhead"
   ]
  },
  {
   "cell_type": "code",
   "execution_count": 6,
   "metadata": {
    "collapsed": false
   },
   "outputs": [
    {
     "name": "stdout",
     "output_type": "stream",
     "text": [
      "Size for regular values in lens dataframe: 457.8 MB\n"
     ]
    }
   ],
   "source": [
    "# Size of the dataframe in-memory\n",
    "rsize = lens.values.nbytes / 2**20.\n",
    "print(\"Size for regular values in lens dataframe: %.1f MB\" % (rsize,))"
   ]
  },
  {
   "cell_type": "code",
   "execution_count": 7,
   "metadata": {
    "collapsed": false
   },
   "outputs": [
    {
     "name": "stdout",
     "output_type": "stream",
     "text": [
      "Overhead of objects: 1115.1 MB\n"
     ]
    }
   ],
   "source": [
    "# Compute the overhead of the objects in dataframe\n",
    "dfo = lens.blocks['object']\n",
    "import sys\n",
    "overhead = sum(sys.getsizeof(o) for o in dfo.values.flat) / 2**20.\n",
    "print(\"Overhead of objects: %.1f MB\" % (overhead ,))"
   ]
  },
  {
   "cell_type": "code",
   "execution_count": 8,
   "metadata": {
    "collapsed": false
   },
   "outputs": [
    {
     "name": "stdout",
     "output_type": "stream",
     "text": [
      "Total size for the dataframe: 1572.8 MB\n"
     ]
    }
   ],
   "source": [
    "# Total size:\n",
    "dfsize = rsize + overhead\n",
    "print(\"Total size for the dataframe: %.1f MB\" % (dfsize,))"
   ]
  },
  {
   "cell_type": "markdown",
   "metadata": {},
   "source": [
    "## Querying with pandas"
   ]
  },
  {
   "cell_type": "code",
   "execution_count": 9,
   "metadata": {
    "collapsed": false
   },
   "outputs": [
    {
     "name": "stdout",
     "output_type": "stream",
     "text": [
      "time (and length) for simple query with pandas: 0.16 (899)\n"
     ]
    }
   ],
   "source": [
    "# Simple query\n",
    "t0 = time()\n",
    "result = lens[lens['title'] == b'Tom and Huck (1995)']\n",
    "#result = lens.query(\"title == 'Tom and Huck (1995)'\")\n",
    "dfsmplqtime = time() - t0\n",
    "print(\"time (and length) for simple query with pandas: %.2f (%d)\" %\n",
    "      (dfsmplqtime, len(result)))\n",
    "#print repr(result)"
   ]
  },
  {
   "cell_type": "code",
   "execution_count": 10,
   "metadata": {
    "collapsed": false
   },
   "outputs": [
    {
     "name": "stdout",
     "output_type": "stream",
     "text": [
      "time (and length) for complex query with pandas: 0.18 (74)\n"
     ]
    }
   ],
   "source": [
    "# Complex query\n",
    "t0 = time()\n",
    "result = lens[(lens['title'] == b'Tom and Huck (1995)') & (lens['rating'] == 5)]['user_id']\n",
    "#result = lens.query(\"(title == 'Tom and Huck (1995)') & (rating == 5)\")['user_id']\n",
    "dfcmplxqtime = time() - t0\n",
    "print(\"time (and length) for complex query with pandas: %.2f (%d)\" %\n",
    "      (dfcmplxqtime, len(result)))"
   ]
  },
  {
   "cell_type": "markdown",
   "metadata": {},
   "source": [
    "## Build a ctable out of the dataframe"
   ]
  },
  {
   "cell_type": "code",
   "execution_count": 11,
   "metadata": {
    "collapsed": false
   },
   "outputs": [
    {
     "name": "stdout",
     "output_type": "stream",
     "text": [
      "time for ctable conversion: 1.05\n"
     ]
    }
   ],
   "source": [
    "# Get a bcolz ctable out of the lens dataframe (using compression by default)\n",
    "t0 = time()\n",
    "zlens = bcolz.ctable.fromdataframe(lens)\n",
    "print(\"time for ctable conversion: %.2f\" % (time()-t0))\n",
    "#print repr(zlens)"
   ]
  },
  {
   "cell_type": "code",
   "execution_count": 12,
   "metadata": {
    "collapsed": false
   },
   "outputs": [],
   "source": [
    "# Get rid of the dataframe to cleanup memory\n",
    "del lens"
   ]
  },
  {
   "cell_type": "code",
   "execution_count": 13,
   "metadata": {
    "collapsed": false
   },
   "outputs": [
    {
     "name": "stdout",
     "output_type": "stream",
     "text": [
      "Total size for the ctable: 92.7 MB\n",
      "Compression ratio the ctable: 19.8x\n",
      "Storage savings compared with a dataframe: 17.0x\n"
     ]
    }
   ],
   "source": [
    "# Size for the compressed ctable\n",
    "zsize = zlens.cbytes / 2**20.\n",
    "print(\"Total size for the ctable: %.1f MB\" % (zsize,))\n",
    "# Compression ratio\n",
    "print(\"Compression ratio the ctable: %.1fx\" % (zlens.nbytes / float(zlens.cbytes),))\n",
    "# Reduction in size compared with the dataframe\n",
    "print(\"Storage savings compared with a dataframe: %.1fx\" % (dfsize / zsize,))"
   ]
  },
  {
   "cell_type": "markdown",
   "metadata": {},
   "source": [
    "## Query the ctable"
   ]
  },
  {
   "cell_type": "code",
   "execution_count": 14,
   "metadata": {
    "collapsed": false
   },
   "outputs": [
    {
     "name": "stdout",
     "output_type": "stream",
     "text": [
      "time (and length) for simple query with bcolz: 0.37 (899)\n"
     ]
    }
   ],
   "source": [
    "# Simple query\n",
    "t0 = time()\n",
    "result = zlens[\"title == 'Tom and Huck (1995)'\"]\n",
    "zsmplqtime = time() - t0\n",
    "print(\"time (and length) for simple query with bcolz: %.2f (%d)\" %\n",
    "      (zsmplqtime, len(result)))\n",
    "#print repr(result)"
   ]
  },
  {
   "cell_type": "code",
   "execution_count": 15,
   "metadata": {
    "collapsed": false
   },
   "outputs": [
    {
     "name": "stdout",
     "output_type": "stream",
     "text": [
      "time (and length) for complex query with bcolz: 0.37 (74)\n"
     ]
    }
   ],
   "source": [
    "# Complex query\n",
    "t0 = time()\n",
    "#result = zlens[\"(title == 'Tom and Huck (1995)') & (rating == 5)\"]['user_id']\n",
    "result = [r.user_id for r in zlens.where(\n",
    "    \"(title == 'Tom and Huck (1995)') & (rating == 5)\", outcols=['user_id'])]\n",
    "zcmplxqtime = time() - t0\n",
    "print(\"time (and length) for complex query with bcolz: %.2f (%d)\" %\n",
    "      (zcmplxqtime, len(result)))\n",
    "#print(repr(result))"
   ]
  },
  {
   "cell_type": "markdown",
   "metadata": {},
   "source": [
    "## Testing an uncompressed ctable"
   ]
  },
  {
   "cell_type": "code",
   "execution_count": 16,
   "metadata": {
    "collapsed": false
   },
   "outputs": [
    {
     "name": "stdout",
     "output_type": "stream",
     "text": [
      "Total size for the ctable: 1833.0 MB\n",
      "Compression ratio the ctable: 1.0x\n",
      "Storage savings compared with a dataframe: 0.9x\n"
     ]
    }
   ],
   "source": [
    "# Size for the uncompressed ctable\n",
    "nzlens = zlens.copy(cparams=bcolz.cparams(clevel=0))\n",
    "nzsize = nzlens.cbytes / 2**20.\n",
    "print(\"Total size for the ctable: %.1f MB\" % (nzsize,))\n",
    "# Compression ratio\n",
    "print(\"Compression ratio the ctable: %.1fx\" % (nzlens.nbytes / float(nzlens.cbytes),))\n",
    "# Reduction in size compared with the dataframe\n",
    "print(\"Storage savings compared with a dataframe: %.1fx\" % (dfsize / nzsize,))"
   ]
  },
  {
   "cell_type": "code",
   "execution_count": 17,
   "metadata": {
    "collapsed": false
   },
   "outputs": [
    {
     "name": "stdout",
     "output_type": "stream",
     "text": [
      "time (and length) for simple query with bcolz: 0.38 (899)\n"
     ]
    }
   ],
   "source": [
    "# Time for a simple query with the uncompressed ctable\n",
    "t0 = time()\n",
    "result = nzlens[\"title == 'Tom and Huck (1995)'\"]\n",
    "nzsmplqtime = time() - t0\n",
    "print(\"time (and length) for simple query with bcolz: %.2f (%d)\" %\n",
    "      (nzsmplqtime, len(result)))\n",
    "#print repr(result)"
   ]
  },
  {
   "cell_type": "code",
   "execution_count": 18,
   "metadata": {
    "collapsed": false
   },
   "outputs": [
    {
     "name": "stdout",
     "output_type": "stream",
     "text": [
      "time (and length) for complex query with bcolz: 0.38 (74)\n"
     ]
    }
   ],
   "source": [
    "# Time for a complex query with the uncompressed ctable\n",
    "t0 = time()\n",
    "#result = zlens[\"(title == 'Tom and Huck (1995)') & (rating == 5)\"]['user_id']\n",
    "result = [r.user_id for r in nzlens.where(\n",
    "    \"(title == 'Tom and Huck (1995)') & (rating == 5)\", outcols=['user_id'])]\n",
    "nzcmplxqtime = time() - t0\n",
    "print(\"time (and length) for complex query with bcolz: %.2f (%d)\" %\n",
    "      (nzcmplxqtime, len(result)))"
   ]
  },
  {
   "cell_type": "code",
   "execution_count": 19,
   "metadata": {
    "collapsed": false
   },
   "outputs": [],
   "source": [
    "# Get rid of previous dataset to clean up memory\n",
    "del nzlens"
   ]
  },
  {
   "cell_type": "markdown",
   "metadata": {},
   "source": [
    "## Testing a disk-based ctable"
   ]
  },
  {
   "cell_type": "code",
   "execution_count": 20,
   "metadata": {
    "collapsed": false
   },
   "outputs": [
    {
     "name": "stdout",
     "output_type": "stream",
     "text": [
      "Total size for the ctable: 92.7 MB\n",
      "Compression ratio for the ctable: 19.8x\n",
      "Storage savings compared with a dataframe: 17.0x\n"
     ]
    }
   ],
   "source": [
    "# Size for a disk-based ctable\n",
    "fname = \"ctable-10m.bcolz\"\n",
    "import shutil\n",
    "if os.path.exists(fname):\n",
    "    shutil.rmtree(fname)\n",
    "dblens = zlens.copy(rootdir=fname)\n",
    "# \"du -sh \"ctable-10m.bcolz\"\n",
    "dbsize = dblens.cbytes / 2**20.\n",
    "print(\"Total size for the ctable: %.1f MB\" % (dbsize,))\n",
    "# Compression ratio\n",
    "print(\"Compression ratio for the ctable: %.1fx\" % (dblens.nbytes / float(dblens.cbytes),))\n",
    "# Reduction in size compared with the dataframe\n",
    "print(\"Storage savings compared with a dataframe: %.1fx\" % (dfsize / dbsize,))"
   ]
  },
  {
   "cell_type": "code",
   "execution_count": 21,
   "metadata": {
    "collapsed": false
   },
   "outputs": [
    {
     "name": "stdout",
     "output_type": "stream",
     "text": [
      "95M\tctable-10m.bcolz\r\n"
     ]
    }
   ],
   "source": [
    "!du -sh \"ctable-10m.bcolz\""
   ]
  },
  {
   "cell_type": "code",
   "execution_count": 22,
   "metadata": {
    "collapsed": false
   },
   "outputs": [
    {
     "name": "stdout",
     "output_type": "stream",
     "text": [
      "time (and length) for simple query with on-disk bcolz: 0.48 (899)\n"
     ]
    }
   ],
   "source": [
    "# Time for a simple query with the on-disk ctable\n",
    "t0 = time()\n",
    "result = dblens[\"title == 'Tom and Huck (1995)'\"]\n",
    "dbsmplqtime = time() - t0\n",
    "print(\"time (and length) for simple query with on-disk bcolz: %.2f (%d)\" %\n",
    "      (dbsmplqtime, len(result)))\n",
    "#print repr(result)"
   ]
  },
  {
   "cell_type": "code",
   "execution_count": 23,
   "metadata": {
    "collapsed": false
   },
   "outputs": [
    {
     "name": "stdout",
     "output_type": "stream",
     "text": [
      "time (and length) for complex query with on-disk bcolz: 0.40 (74)\n"
     ]
    }
   ],
   "source": [
    "# Time for a complex query with the uncompressed ctable\n",
    "t0 = time()\n",
    "#result = dblens[\"(title == 'Tom and Huck (1995)') & (rating == 5)\"]['user_id']\n",
    "result = [r.user_id for r in dblens.where(\n",
    "    \"(title == 'Tom and Huck (1995)') & (rating == 5)\", outcols=['user_id'])]\n",
    "dbcmplxqtime = time() - t0\n",
    "print(\"time (and length) for complex query with on-disk bcolz: %.2f (%d)\" %\n",
    "      (dbcmplxqtime, len(result)))"
   ]
  },
  {
   "cell_type": "markdown",
   "metadata": {},
   "source": [
    "## Plots"
   ]
  },
  {
   "cell_type": "code",
   "execution_count": 24,
   "metadata": {
    "collapsed": false
   },
   "outputs": [
    {
     "name": "stderr",
     "output_type": "stream",
     "text": [
      "/home/francesc/miniconda3/envs/py27/lib/python2.7/site-packages/IPython/core/interactiveshell.py:2869: FutureWarning: \n",
      "mpl_style had been deprecated and will be removed in a future version.\n",
      "Use `matplotlib.pyplot.style.use` instead.\n",
      "\n",
      "  exec(code_obj, self.user_global_ns, self.user_ns)\n"
     ]
    },
    {
     "data": {
      "text/plain": [
       "<matplotlib.axes._subplots.AxesSubplot at 0x7f3ea1fe7290>"
      ]
     },
     "execution_count": 24,
     "metadata": {},
     "output_type": "execute_result"
    },
    {
     "name": "stderr",
     "output_type": "stream",
     "text": [
      "/home/francesc/miniconda3/envs/py27/lib/python2.7/site-packages/matplotlib/font_manager.py:1288: UserWarning: findfont: Font family [u'monospace'] not found. Falling back to Bitstream Vera Sans\n",
      "  (prop.get_family(), self.defaultFamily[fontext]))\n"
     ]
    },
    {
     "data": {
      "image/png": "[encoded data removed]",
      "text/plain": [
       "<matplotlib.figure.Figure at 0x7f3ea2488750>"
      ]
     },
     "metadata": {},
     "output_type": "display_data"
    }
   ],
   "source": [
    "%matplotlib inline\n",
    "# Sizes\n",
    "index = [\"pandas\", \"bcolz (memory, nocompr)\", \"bcolz (memory, compr)\", \"bcolz (disk, compr)\"]\n",
    "#index = [\"bcolz (disk)\", \"bcolz (compr)\", \"bcolz (nocompr)\", \"pandas\"]\n",
    "df = pd.DataFrame({'size (MB)': [dfsize, nzsize, zsize, dbsize]}, index=index)\n",
    "pd.options.display.mpl_style = 'default'\n",
    "df.plot(kind='barh', figsize=(12,7), fontsize=16, title=\"Size of the datasets\")"
   ]
  },
  {
   "cell_type": "code",
   "execution_count": 25,
   "metadata": {
    "collapsed": false
   },
   "outputs": [
    {
     "data": {
      "text/plain": [
       "<matplotlib.axes._subplots.AxesSubplot at 0x7f3ea1f28f50>"
      ]
     },
     "execution_count": 25,
     "metadata": {},
     "output_type": "execute_result"
    },
    {
     "data": {
      "image/png": "[encoded data removed]",
      "text/plain": [
       "<matplotlib.figure.Figure at 0x7f3ec2239cd0>"
      ]
     },
     "metadata": {},
     "output_type": "display_data"
    }
   ],
   "source": [
    "# Simple query times\n",
    "df = pd.DataFrame({'time (sec)': [dfsmplqtime, nzsmplqtime, zsmplqtime, dbsmplqtime]}, index=index)\n",
    "pd.options.display.mpl_style = 'default'\n",
    "df.plot(kind='barh', figsize=(12,5), fontsize=16, title=\"Simple query times for MovieLens 10M\")"
   ]
  },
  {
   "cell_type": "code",
   "execution_count": 26,
   "metadata": {
    "collapsed": false
   },
   "outputs": [
    {
     "data": {
      "text/plain": [
       "<matplotlib.axes._subplots.AxesSubplot at 0x7f3ea1edaa90>"
      ]
     },
     "execution_count": 26,
     "metadata": {},
     "output_type": "execute_result"
    },
    {
     "data": {
      "image/png": "[encoded data removed]",
      "text/plain": [
       "<matplotlib.figure.Figure at 0x7f3ea1e6a850>"
      ]
     },
     "metadata": {},
     "output_type": "display_data"
    }
   ],
   "source": [
    "# Complex query times\n",
    "df = pd.DataFrame({'time (sec)': [dfcmplxqtime, nzcmplxqtime, zcmplxqtime, dbcmplxqtime]}, index=index)\n",
    "pd.options.display.mpl_style = 'default'\n",
    "df.plot(kind='barh', figsize=(12,5), fontsize=16, title=\"Complex query times for MovieLens 10M\")\n"
   ]
  },
  {
   "cell_type": "code",
   "execution_count": null,
   "metadata": {
    "collapsed": false
   },
   "outputs": [],
   "source": []
  }
 ],
 "metadata": {
  "kernelspec": {
   "display_name": "Python 2",
   "language": "python",
   "name": "python2"
  },
  "language_info": {
   "codemirror_mode": {
    "name": "ipython",
    "version": 2
   },
   "file_extension": ".py",
   "mimetype": "text/x-python",
   "name": "python",
   "nbconvert_exporter": "python",
   "pygments_lexer": "ipython2",
   "version": "2.7.12"
  }
 },
 "nbformat": 4,
 "nbformat_minor": 0
}
